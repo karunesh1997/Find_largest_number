{
 "cells": [
  {
   "cell_type": "code",
   "execution_count": 1,
   "id": "fc75344a",
   "metadata": {},
   "outputs": [],
   "source": [
    "import pandas as pd"
   ]
  },
  {
   "cell_type": "code",
   "execution_count": 2,
   "id": "c5f5430f",
   "metadata": {},
   "outputs": [],
   "source": [
    "import streamlit as st"
   ]
  },
  {
   "cell_type": "code",
   "execution_count": 3,
   "id": "8f3e521d",
   "metadata": {
    "scrolled": true
   },
   "outputs": [
    {
     "name": "stderr",
     "output_type": "stream",
     "text": [
      "2023-12-13 20:41:38.167 \n",
      "  \u001b[33m\u001b[1mWarning:\u001b[0m to view this Streamlit app on a browser, run it with the following\n",
      "  command:\n",
      "\n",
      "    streamlit run C:\\Python310\\lib\\site-packages\\ipykernel_launcher.py [ARGUMENTS]\n"
     ]
    }
   ],
   "source": [
    "def find_largest(num1,num2,num3):\n",
    "  return max(number1, number2, number3)\n",
    "\n",
    "st.title('Find the Largest Number')\n",
    "\n",
    "number1 = st.number_input(\"Insert first number\", value=None, placeholder=\"Type a number...\")\n",
    "number2 = st.number_input(\"Insert second number\", value=None, placeholder=\"Type a number...\")\n",
    "number3 = st.number_input(\"Insert third number\", value=None, placeholder=\"Type a number...\")\n",
    "\n",
    "if st.button('Find Largest'):\n",
    "  largest = find_largest(number1, number2, number3)\n",
    "  st.success('The largest number is: ', largest)"
   ]
  }
 ],
 "metadata": {
  "kernelspec": {
   "display_name": "Python 3 (ipykernel)",
   "language": "python",
   "name": "python3"
  },
  "language_info": {
   "codemirror_mode": {
    "name": "ipython",
    "version": 3
   },
   "file_extension": ".py",
   "mimetype": "text/x-python",
   "name": "python",
   "nbconvert_exporter": "python",
   "pygments_lexer": "ipython3",
   "version": "3.10.4"
  }
 },
 "nbformat": 4,
 "nbformat_minor": 5
}
